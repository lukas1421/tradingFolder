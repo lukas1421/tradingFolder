{
 "metadata": {
  "name": "",
  "signature": "sha256:255becb658501d672283d4fe74ab5cdd6c3ed55994502ff9c28064609c6e273b"
 },
 "nbformat": 3,
 "nbformat_minor": 0,
 "worksheets": [
  {
   "cells": [
    {
     "cell_type": "code",
     "collapsed": false,
     "input": [
      "import pandas as pd"
     ],
     "language": "python",
     "metadata": {},
     "outputs": [],
     "prompt_number": 2
    },
    {
     "cell_type": "code",
     "collapsed": false,
     "input": [
      "a=pd.read_csv('apr17Data.csv')"
     ],
     "language": "python",
     "metadata": {},
     "outputs": [],
     "prompt_number": 3
    },
    {
     "cell_type": "code",
     "collapsed": false,
     "input": [
      "a.pmFirst5.mean()"
     ],
     "language": "python",
     "metadata": {},
     "outputs": [
      {
       "metadata": {},
       "output_type": "pyout",
       "prompt_number": 4,
       "text": [
        "4.21574373470399e-06"
       ]
      }
     ],
     "prompt_number": 4
    },
    {
     "cell_type": "code",
     "collapsed": false,
     "input": [
      "returnLast((np.arange(4)))"
     ],
     "language": "python",
     "metadata": {},
     "outputs": [
      {
       "metadata": {},
       "output_type": "pyout",
       "prompt_number": 99,
       "text": [
        "3"
       ]
      }
     ],
     "prompt_number": 99
    },
    {
     "cell_type": "code",
     "collapsed": false,
     "input": [
      "def returnLast(x):\n",
      "    return x[-1]"
     ],
     "language": "python",
     "metadata": {},
     "outputs": [],
     "prompt_number": 98
    },
    {
     "cell_type": "code",
     "collapsed": false,
     "input": [
      "def cumprod1(x):\n",
      "    return "
     ],
     "language": "python",
     "metadata": {},
     "outputs": [],
     "prompt_number": 77
    },
    {
     "cell_type": "code",
     "collapsed": false,
     "input": [
      "(a[['retCO','retOPC','retCC']]).groupby([a['weekday'],a['retOPC']>0]).aggregate([mean, len, lambda x: asscalar(cumprod(1+x).tail(1))])"
     ],
     "language": "python",
     "metadata": {},
     "outputs": [
      {
       "html": [
        "<div style=\"max-width:1500px;overflow:auto;\">\n",
        "<table border=\"1\" class=\"dataframe\">\n",
        "  <thead>\n",
        "    <tr>\n",
        "      <th></th>\n",
        "      <th></th>\n",
        "      <th colspan=\"3\" halign=\"left\">retCO</th>\n",
        "      <th colspan=\"3\" halign=\"left\">retOPC</th>\n",
        "      <th colspan=\"3\" halign=\"left\">retCC</th>\n",
        "    </tr>\n",
        "    <tr>\n",
        "      <th></th>\n",
        "      <th></th>\n",
        "      <th>mean</th>\n",
        "      <th>len</th>\n",
        "      <th>&lt;lambda&gt;</th>\n",
        "      <th>mean</th>\n",
        "      <th>len</th>\n",
        "      <th>&lt;lambda&gt;</th>\n",
        "      <th>mean</th>\n",
        "      <th>len</th>\n",
        "      <th>&lt;lambda&gt;</th>\n",
        "    </tr>\n",
        "    <tr>\n",
        "      <th>weekday</th>\n",
        "      <th>retOPC</th>\n",
        "      <th></th>\n",
        "      <th></th>\n",
        "      <th></th>\n",
        "      <th></th>\n",
        "      <th></th>\n",
        "      <th></th>\n",
        "      <th></th>\n",
        "      <th></th>\n",
        "      <th></th>\n",
        "    </tr>\n",
        "  </thead>\n",
        "  <tbody>\n",
        "    <tr>\n",
        "      <th rowspan=\"2\" valign=\"top\">1</th>\n",
        "      <th>False</th>\n",
        "      <td>-0.001684</td>\n",
        "      <td>405.0</td>\n",
        "      <td>0.471311</td>\n",
        "      <td>-0.004329</td>\n",
        "      <td>405.0</td>\n",
        "      <td>0.172049</td>\n",
        "      <td>-0.006032</td>\n",
        "      <td>405.0</td>\n",
        "      <td>0.080163</td>\n",
        "    </tr>\n",
        "    <tr>\n",
        "      <th>True</th>\n",
        "      <td>0.003384</td>\n",
        "      <td>387.0</td>\n",
        "      <td>3.515855</td>\n",
        "      <td>0.004616</td>\n",
        "      <td>387.0</td>\n",
        "      <td>5.858747</td>\n",
        "      <td>0.008000</td>\n",
        "      <td>387.0</td>\n",
        "      <td>20.612172</td>\n",
        "    </tr>\n",
        "    <tr>\n",
        "      <th rowspan=\"2\" valign=\"top\">2</th>\n",
        "      <th>False</th>\n",
        "      <td>0.001322</td>\n",
        "      <td>433.0</td>\n",
        "      <td>1.689060</td>\n",
        "      <td>-0.003990</td>\n",
        "      <td>433.0</td>\n",
        "      <td>0.175361</td>\n",
        "      <td>-0.002668</td>\n",
        "      <td>433.0</td>\n",
        "      <td>0.297848</td>\n",
        "    </tr>\n",
        "    <tr>\n",
        "      <th>True</th>\n",
        "      <td>-0.000338</td>\n",
        "      <td>381.0</td>\n",
        "      <td>0.843968</td>\n",
        "      <td>0.002720</td>\n",
        "      <td>381.0</td>\n",
        "      <td>2.803990</td>\n",
        "      <td>0.002382</td>\n",
        "      <td>381.0</td>\n",
        "      <td>2.377336</td>\n",
        "    </tr>\n",
        "    <tr>\n",
        "      <th rowspan=\"2\" valign=\"top\">3</th>\n",
        "      <th>False</th>\n",
        "      <td>0.001553</td>\n",
        "      <td>419.0</td>\n",
        "      <td>1.817232</td>\n",
        "      <td>-0.003625</td>\n",
        "      <td>419.0</td>\n",
        "      <td>0.216337</td>\n",
        "      <td>-0.002073</td>\n",
        "      <td>419.0</td>\n",
        "      <td>0.396180</td>\n",
        "    </tr>\n",
        "    <tr>\n",
        "      <th>True</th>\n",
        "      <td>0.001911</td>\n",
        "      <td>394.0</td>\n",
        "      <td>2.041618</td>\n",
        "      <td>0.002558</td>\n",
        "      <td>394.0</td>\n",
        "      <td>2.727384</td>\n",
        "      <td>0.004469</td>\n",
        "      <td>394.0</td>\n",
        "      <td>5.566435</td>\n",
        "    </tr>\n",
        "    <tr>\n",
        "      <th rowspan=\"2\" valign=\"top\">4</th>\n",
        "      <th>False</th>\n",
        "      <td>-0.001545</td>\n",
        "      <td>445.0</td>\n",
        "      <td>0.475319</td>\n",
        "      <td>-0.003538</td>\n",
        "      <td>445.0</td>\n",
        "      <td>0.205498</td>\n",
        "      <td>-0.005083</td>\n",
        "      <td>445.0</td>\n",
        "      <td>0.097559</td>\n",
        "    </tr>\n",
        "    <tr>\n",
        "      <th>True</th>\n",
        "      <td>0.000381</td>\n",
        "      <td>367.0</td>\n",
        "      <td>1.108214</td>\n",
        "      <td>0.003063</td>\n",
        "      <td>367.0</td>\n",
        "      <td>3.052099</td>\n",
        "      <td>0.003444</td>\n",
        "      <td>367.0</td>\n",
        "      <td>3.389162</td>\n",
        "    </tr>\n",
        "    <tr>\n",
        "      <th rowspan=\"2\" valign=\"top\">5</th>\n",
        "      <th>False</th>\n",
        "      <td>0.000950</td>\n",
        "      <td>447.0</td>\n",
        "      <td>1.466115</td>\n",
        "      <td>-0.003506</td>\n",
        "      <td>447.0</td>\n",
        "      <td>0.206795</td>\n",
        "      <td>-0.002556</td>\n",
        "      <td>447.0</td>\n",
        "      <td>0.303043</td>\n",
        "    </tr>\n",
        "    <tr>\n",
        "      <th>True</th>\n",
        "      <td>0.000982</td>\n",
        "      <td>359.0</td>\n",
        "      <td>1.383289</td>\n",
        "      <td>0.003173</td>\n",
        "      <td>359.0</td>\n",
        "      <td>3.095960</td>\n",
        "      <td>0.004154</td>\n",
        "      <td>359.0</td>\n",
        "      <td>4.283463</td>\n",
        "    </tr>\n",
        "  </tbody>\n",
        "</table>\n",
        "</div>"
       ],
       "metadata": {},
       "output_type": "pyout",
       "prompt_number": 6,
       "text": [
        "                   retCO                     retOPC                   \\\n",
        "                    mean    len  <lambda>      mean    len  <lambda>   \n",
        "weekday retOPC                                                         \n",
        "1       False  -0.001684  405.0  0.471311 -0.004329  405.0  0.172049   \n",
        "        True    0.003384  387.0  3.515855  0.004616  387.0  5.858747   \n",
        "2       False   0.001322  433.0  1.689060 -0.003990  433.0  0.175361   \n",
        "        True   -0.000338  381.0  0.843968  0.002720  381.0  2.803990   \n",
        "3       False   0.001553  419.0  1.817232 -0.003625  419.0  0.216337   \n",
        "        True    0.001911  394.0  2.041618  0.002558  394.0  2.727384   \n",
        "4       False  -0.001545  445.0  0.475319 -0.003538  445.0  0.205498   \n",
        "        True    0.000381  367.0  1.108214  0.003063  367.0  3.052099   \n",
        "5       False   0.000950  447.0  1.466115 -0.003506  447.0  0.206795   \n",
        "        True    0.000982  359.0  1.383289  0.003173  359.0  3.095960   \n",
        "\n",
        "                   retCC                    \n",
        "                    mean    len   <lambda>  \n",
        "weekday retOPC                              \n",
        "1       False  -0.006032  405.0   0.080163  \n",
        "        True    0.008000  387.0  20.612172  \n",
        "2       False  -0.002668  433.0   0.297848  \n",
        "        True    0.002382  381.0   2.377336  \n",
        "3       False  -0.002073  419.0   0.396180  \n",
        "        True    0.004469  394.0   5.566435  \n",
        "4       False  -0.005083  445.0   0.097559  \n",
        "        True    0.003444  367.0   3.389162  \n",
        "5       False  -0.002556  447.0   0.303043  \n",
        "        True    0.004154  359.0   4.283463  "
       ]
      }
     ],
     "prompt_number": 6
    },
    {
     "cell_type": "code",
     "collapsed": false,
     "input": [
      "from sklearn.svm import SVC"
     ],
     "language": "python",
     "metadata": {},
     "outputs": [],
     "prompt_number": 48
    },
    {
     "cell_type": "code",
     "collapsed": false,
     "input": [
      "svm= SVC(kernel='rbf',random_state=0,gamma=0.1,C=10.0)"
     ],
     "language": "python",
     "metadata": {},
     "outputs": [],
     "prompt_number": 52
    },
    {
     "cell_type": "code",
     "collapsed": false,
     "input": [
      "a.retPMCO.groupby([a['amClosePercentile']<0.1, a['weekday']==3]).mean()"
     ],
     "language": "python",
     "metadata": {},
     "outputs": [
      {
       "metadata": {},
       "output_type": "pyout",
       "prompt_number": 48,
       "text": [
        "amClosePercentile  weekday\n",
        "False              False      0.001001\n",
        "                   True       0.001283\n",
        "True               False     -0.001123\n",
        "                   True       0.001233\n",
        "Name: retPMCO, dtype: float64"
       ]
      }
     ],
     "prompt_number": 48
    },
    {
     "cell_type": "code",
     "collapsed": false,
     "input": [
      "a['retPMCO'][a['weekday']==3 & a['amMaxT1']<9.6 ].mean()"
     ],
     "language": "python",
     "metadata": {},
     "outputs": [
      {
       "ename": "TypeError",
       "evalue": "cannot compare a dtyped [float64] array with a scalar of type [bool]",
       "output_type": "pyerr",
       "traceback": [
        "\u001b[0;31m---------------------------------------------------------------------------\u001b[0m\n\u001b[0;31mTypeError\u001b[0m                                 Traceback (most recent call last)",
        "\u001b[0;32m<ipython-input-55-234b1b16c03a>\u001b[0m in \u001b[0;36m<module>\u001b[0;34m()\u001b[0m\n\u001b[0;32m----> 1\u001b[0;31m \u001b[0ma\u001b[0m\u001b[0;34m[\u001b[0m\u001b[0;34m'retPMCO'\u001b[0m\u001b[0;34m]\u001b[0m\u001b[0;34m[\u001b[0m\u001b[0ma\u001b[0m\u001b[0;34m[\u001b[0m\u001b[0;34m'weekday'\u001b[0m\u001b[0;34m]\u001b[0m\u001b[0;34m==\u001b[0m\u001b[0;36m3\u001b[0m \u001b[0;34m&\u001b[0m \u001b[0ma\u001b[0m\u001b[0;34m[\u001b[0m\u001b[0;34m'amMaxT1'\u001b[0m\u001b[0;34m]\u001b[0m\u001b[0;34m<\u001b[0m\u001b[0;36m9.6\u001b[0m \u001b[0;34m]\u001b[0m\u001b[0;34m.\u001b[0m\u001b[0mmean\u001b[0m\u001b[0;34m(\u001b[0m\u001b[0;34m)\u001b[0m\u001b[0;34m\u001b[0m\u001b[0m\n\u001b[0m",
        "\u001b[0;32m/usr/lib/python2.7/dist-packages/pandas/core/ops.pyc\u001b[0m in \u001b[0;36mwrapper\u001b[0;34m(self, other)\u001b[0m\n\u001b[1;32m    663\u001b[0m         \u001b[0;32melse\u001b[0m\u001b[0;34m:\u001b[0m\u001b[0;34m\u001b[0m\u001b[0m\n\u001b[1;32m    664\u001b[0m             \u001b[0;31m# scalars\u001b[0m\u001b[0;34m\u001b[0m\u001b[0;34m\u001b[0m\u001b[0m\n\u001b[0;32m--> 665\u001b[0;31m             res = self._constructor(na_op(self.values, other),\n\u001b[0m\u001b[1;32m    666\u001b[0m                                     index=self.index).fillna(False)\n\u001b[1;32m    667\u001b[0m             \u001b[0;32mreturn\u001b[0m \u001b[0mres\u001b[0m\u001b[0;34m.\u001b[0m\u001b[0mastype\u001b[0m\u001b[0;34m(\u001b[0m\u001b[0mbool\u001b[0m\u001b[0;34m)\u001b[0m\u001b[0;34m.\u001b[0m\u001b[0m__finalize__\u001b[0m\u001b[0;34m(\u001b[0m\u001b[0mself\u001b[0m\u001b[0;34m)\u001b[0m\u001b[0;34m\u001b[0m\u001b[0m\n",
        "\u001b[0;32m/usr/lib/python2.7/dist-packages/pandas/core/ops.pyc\u001b[0m in \u001b[0;36mna_op\u001b[0;34m(x, y)\u001b[0m\n\u001b[1;32m    647\u001b[0m                     raise TypeError(\"cannot compare a dtyped [{0}] array with \"\n\u001b[1;32m    648\u001b[0m                                     \"a scalar of type [{1}]\".format(\n\u001b[0;32m--> 649\u001b[0;31m                                         x.dtype, type(y).__name__))\n\u001b[0m\u001b[1;32m    650\u001b[0m \u001b[0;34m\u001b[0m\u001b[0m\n\u001b[1;32m    651\u001b[0m         \u001b[0;32mreturn\u001b[0m \u001b[0mresult\u001b[0m\u001b[0;34m\u001b[0m\u001b[0m\n",
        "\u001b[0;31mTypeError\u001b[0m: cannot compare a dtyped [float64] array with a scalar of type [bool]"
       ]
      }
     ],
     "prompt_number": 55
    },
    {
     "cell_type": "code",
     "collapsed": false,
     "input": [],
     "language": "python",
     "metadata": {},
     "outputs": []
    },
    {
     "cell_type": "code",
     "collapsed": false,
     "input": [
      "import sklearn"
     ],
     "language": "python",
     "metadata": {},
     "outputs": [],
     "prompt_number": 78
    },
    {
     "cell_type": "code",
     "collapsed": false,
     "input": [
      "sklearn.__version__\n"
     ],
     "language": "python",
     "metadata": {},
     "outputs": [
      {
       "metadata": {},
       "output_type": "pyout",
       "prompt_number": 79,
       "text": [
        "'0.17.1'"
       ]
      }
     ],
     "prompt_number": 79
    },
    {
     "cell_type": "code",
     "collapsed": false,
     "input": [],
     "language": "python",
     "metadata": {},
     "outputs": []
    }
   ],
   "metadata": {}
  }
 ]
}